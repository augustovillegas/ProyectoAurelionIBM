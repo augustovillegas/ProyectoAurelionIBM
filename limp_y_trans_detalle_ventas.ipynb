{
 "cells": [
  {
   "cell_type": "markdown",
   "id": "22a55598",
   "metadata": {},
   "source": [
    "# 🏪 Proyecto Aurelion\n",
    "\n",
    "Este notebook documenta el proceso de **análisis, limpieza y transformación de datos** de la tabla `DETALLE_VENTAS` del proyecto *Aurelion*, utilizando la biblioteca **Pandas** en Python.\n",
    "\n",
    "El objetivo es preparar un conjunto de datos estructurado, limpio y estandarizado para posteriores procesos de análisis estadístico, modelado o visualización.\n"
   ]
  },
  {
   "cell_type": "markdown",
   "id": "3561814b",
   "metadata": {},
   "source": [
    "## 📊 Descripción General\n",
    "\n",
    "La tabla `DETALLE_VENTAS` contiene información detallada sobre operaciones comerciales, incluyendo campos de identificación, fechas, montos y categorías de productos.\n",
    "\n",
    "A lo largo de este notebook se realizarán las siguientes tareas principales:\n",
    "\n",
    "- Importación de los datos desde un archivo **Excel (.xlsx)**.  \n",
    "- Creación del dataframe inicial `df_detall_venta_c`.  \n",
    "- Procesamiento, normalización y renombrado de columnas para generar el dataframe limpio `df_detall_venta`.  \n",
    "- Aplicación de operaciones básicas de **limpieza**, **transformación** y **estandarización** de los datos.  \n",
    "- Generación de **estadísticas descriptivas** para comprender la distribución y consistencia de las variables.\n"
   ]
  },
  {
   "cell_type": "markdown",
   "id": "47a544a2",
   "metadata": {},
   "source": [
    "## ⚙️ Limpieza y Transformación de los Datos\n",
    "\n",
    "En esta sección se detallan las operaciones realizadas para asegurar la integridad y coherencia del dataset:\n",
    "\n",
    "1. **Revisión de valores nulos y duplicados.**  \n",
    "   - Identificación y tratamiento de valores faltantes.  \n",
    "   - Eliminación o imputación según el contexto de negocio.\n",
    "\n",
    "2. **Estandarización de tipos de datos.**  \n",
    "   - Conversión de fechas, montos y categorías al formato correcto.  \n",
    "   - Normalización de cadenas y eliminación de espacios o caracteres no deseados.\n",
    "\n",
    "3. **Renombrado de columnas.**  \n",
    "   - Aplicación de nombres consistentes y descriptivos conforme a las buenas prácticas de análisis de datos.\n",
    "\n",
    "4. **Validación del dataframe final.**  \n",
    "   - Verificación de dimensiones, tipos y contenido.  \n",
    "   - Comparación con el dataframe original (`df_detall_venta_c`).\n"
   ]
  },
  {
   "cell_type": "markdown",
   "id": "6d9b7e37",
   "metadata": {},
   "source": [
    "## 📈 Resultados y Estadísticas Descriptivas\n",
    "\n",
    "Finalmente, se presentan los principales resultados del proceso de preparación de datos:\n",
    "\n",
    "- Distribución de valores por variable clave.  \n",
    "- Identificación de outliers y patrones relevantes.  \n",
    "- Métricas de tendencia central y dispersión.  \n",
    "- Estado final del dataframe `df_detall_venta` listo para análisis posteriores.\n"
   ]
  },
  {
   "cell_type": "markdown",
   "id": "d52f5dd9",
   "metadata": {},
   "source": [
    "## 🛠 Instalación e Importación de Librerías.\n",
    "\n",
    "En esta sección se instalan y cargan las principales bibliotecas de Python utilizadas para el análisis de datos.\n",
    "\n",
    "- Estas herramientas permiten realizar tareas de manipulación, limpieza, transformación y visualización de la información contenida en el dataset `DETALLE_VENTAS`.\n"
   ]
  },
  {
   "cell_type": "markdown",
   "id": "e91496a4",
   "metadata": {},
   "source": [
    "### 🔧 Instalación de librerías\n",
    "\n",
    "Si el entorno de ejecución no cuenta con las dependencias necesarias, pueden instalarse con los siguientes comandos:\n",
    "\n",
    "- %pip install pandas numpy scikit-learn category_encoders matplotlib seaborn\n",
    "- %pip install openpyxl\n"
   ]
  },
  {
   "cell_type": "code",
   "execution_count": 22,
   "id": "d66913f1",
   "metadata": {},
   "outputs": [
    {
     "name": "stdout",
     "output_type": "stream",
     "text": [
      "Requirement already satisfied: pandas in c:\\users\\asus\\appdata\\local\\programs\\python\\python313\\lib\\site-packages (2.3.3)\n",
      "Requirement already satisfied: numpy in c:\\users\\asus\\appdata\\local\\programs\\python\\python313\\lib\\site-packages (2.3.4)\n",
      "Requirement already satisfied: scikit-learn in c:\\users\\asus\\appdata\\local\\programs\\python\\python313\\lib\\site-packages (1.7.2)\n",
      "Requirement already satisfied: category_encoders in c:\\users\\asus\\appdata\\local\\programs\\python\\python313\\lib\\site-packages (2.8.1)\n",
      "Requirement already satisfied: matplotlib in c:\\users\\asus\\appdata\\local\\programs\\python\\python313\\lib\\site-packages (3.10.7)\n",
      "Requirement already satisfied: seaborn in c:\\users\\asus\\appdata\\local\\programs\\python\\python313\\lib\\site-packages (0.13.2)\n",
      "Requirement already satisfied: python-dateutil>=2.8.2 in c:\\users\\asus\\appdata\\roaming\\python\\python313\\site-packages (from pandas) (2.9.0.post0)\n",
      "Requirement already satisfied: pytz>=2020.1 in c:\\users\\asus\\appdata\\local\\programs\\python\\python313\\lib\\site-packages (from pandas) (2025.2)\n",
      "Requirement already satisfied: tzdata>=2022.7 in c:\\users\\asus\\appdata\\local\\programs\\python\\python313\\lib\\site-packages (from pandas) (2025.2)\n",
      "Requirement already satisfied: scipy>=1.8.0 in c:\\users\\asus\\appdata\\local\\programs\\python\\python313\\lib\\site-packages (from scikit-learn) (1.16.2)\n",
      "Requirement already satisfied: joblib>=1.2.0 in c:\\users\\asus\\appdata\\local\\programs\\python\\python313\\lib\\site-packages (from scikit-learn) (1.5.2)\n",
      "Requirement already satisfied: threadpoolctl>=3.1.0 in c:\\users\\asus\\appdata\\local\\programs\\python\\python313\\lib\\site-packages (from scikit-learn) (3.6.0)\n",
      "Requirement already satisfied: patsy>=0.5.1 in c:\\users\\asus\\appdata\\local\\programs\\python\\python313\\lib\\site-packages (from category_encoders) (1.0.2)\n",
      "Requirement already satisfied: statsmodels>=0.9.0 in c:\\users\\asus\\appdata\\local\\programs\\python\\python313\\lib\\site-packages (from category_encoders) (0.14.5)\n",
      "Requirement already satisfied: contourpy>=1.0.1 in c:\\users\\asus\\appdata\\local\\programs\\python\\python313\\lib\\site-packages (from matplotlib) (1.3.3)\n",
      "Requirement already satisfied: cycler>=0.10 in c:\\users\\asus\\appdata\\local\\programs\\python\\python313\\lib\\site-packages (from matplotlib) (0.12.1)\n",
      "Requirement already satisfied: fonttools>=4.22.0 in c:\\users\\asus\\appdata\\local\\programs\\python\\python313\\lib\\site-packages (from matplotlib) (4.60.1)\n",
      "Requirement already satisfied: kiwisolver>=1.3.1 in c:\\users\\asus\\appdata\\local\\programs\\python\\python313\\lib\\site-packages (from matplotlib) (1.4.9)\n",
      "Requirement already satisfied: packaging>=20.0 in c:\\users\\asus\\appdata\\roaming\\python\\python313\\site-packages (from matplotlib) (25.0)\n",
      "Requirement already satisfied: pillow>=8 in c:\\users\\asus\\appdata\\local\\programs\\python\\python313\\lib\\site-packages (from matplotlib) (12.0.0)\n",
      "Requirement already satisfied: pyparsing>=3 in c:\\users\\asus\\appdata\\local\\programs\\python\\python313\\lib\\site-packages (from matplotlib) (3.2.5)\n",
      "Requirement already satisfied: six>=1.5 in c:\\users\\asus\\appdata\\roaming\\python\\python313\\site-packages (from python-dateutil>=2.8.2->pandas) (1.17.0)\n",
      "Note: you may need to restart the kernel to use updated packages.\n"
     ]
    },
    {
     "name": "stderr",
     "output_type": "stream",
     "text": [
      "\n",
      "[notice] A new release of pip is available: 25.0.1 -> 25.2\n",
      "[notice] To update, run: python.exe -m pip install --upgrade pip\n"
     ]
    }
   ],
   "source": [
    "# Instala dependencias principales para procesamiento y visualizaci?n\n",
    "%pip install pandas numpy scikit-learn category_encoders matplotlib seaborn\n"
   ]
  },
  {
   "cell_type": "code",
   "execution_count": 23,
   "id": "d4a21eef",
   "metadata": {},
   "outputs": [
    {
     "name": "stdout",
     "output_type": "stream",
     "text": [
      "Requirement already satisfied: openpyxl in c:\\users\\asus\\appdata\\local\\programs\\python\\python313\\lib\\site-packages (3.1.5)\n",
      "Requirement already satisfied: et-xmlfile in c:\\users\\asus\\appdata\\local\\programs\\python\\python313\\lib\\site-packages (from openpyxl) (2.0.0)\n",
      "Note: you may need to restart the kernel to use updated packages.\n"
     ]
    },
    {
     "name": "stderr",
     "output_type": "stream",
     "text": [
      "\n",
      "[notice] A new release of pip is available: 25.0.1 -> 25.2\n",
      "[notice] To update, run: python.exe -m pip install --upgrade pip\n"
     ]
    }
   ],
   "source": [
    "# Asegura el motor openpyxl para leer archivos Excel\n",
    "%pip install openpyxl\n"
   ]
  },
  {
   "cell_type": "markdown",
   "id": "3bde7eae",
   "metadata": {},
   "source": [
    "#### Importamos librerias instaladas para implementarlas en el código"
   ]
  },
  {
   "cell_type": "code",
   "execution_count": 24,
   "id": "0daa3522",
   "metadata": {},
   "outputs": [],
   "source": [
    "# Importa librer?as de ETL, codificaci?n categ?rica y visualizaci?n\n",
    "import pandas as pd\n",
    "import numpy as np\n",
    "import sklearn as sk\n",
    "import category_encoders as ce\n",
    "import matplotlib.pyplot as plt\n",
    "from pathlib import Path\n"
   ]
  },
  {
   "cell_type": "markdown",
   "id": "725cce9a",
   "metadata": {},
   "source": [
    "## 📥 Carga del Archivo de Datos\n",
    "\n",
    "En esta sección se realiza la **importación del dataset principal** utilizando una **ruta relativa** y la librería `pathlib.Path`. Esto no solo simplifica la ruta, sino que también garantiza que el código sea **portable** y funcione correctamente en diferentes sistemas operativos (Windows, macOS, Linux), siempre y cuando la estructura de directorios se mantenga consistente.\n",
    "\n",
    "> 📂 **Ruta del archivo:**  \n",
    "> El archivo se accede mediante la construcción **`Path('db') / 'detalle_ventas.xlsx'`**.\n",
    "\n",
    "La lectura del archivo se efectúa mediante la función `pd.read_excel()` de la biblioteca **pandas**, creando el dataframe inicial `df_detall_venta_c`, el cual servirá como base para los procesos posteriores de limpieza y análisis.\n"
   ]
  },
  {
   "cell_type": "code",
   "execution_count": 25,
   "id": "fd8132ee",
   "metadata": {},
   "outputs": [
    {
     "data": {
      "text/html": [
       "<div>\n",
       "<style scoped>\n",
       "    .dataframe tbody tr th:only-of-type {\n",
       "        vertical-align: middle;\n",
       "    }\n",
       "\n",
       "    .dataframe tbody tr th {\n",
       "        vertical-align: top;\n",
       "    }\n",
       "\n",
       "    .dataframe thead th {\n",
       "        text-align: right;\n",
       "    }\n",
       "</style>\n",
       "<table border=\"1\" class=\"dataframe\">\n",
       "  <thead>\n",
       "    <tr style=\"text-align: right;\">\n",
       "      <th></th>\n",
       "      <th>id_venta</th>\n",
       "      <th>id_producto</th>\n",
       "      <th>nombre_producto</th>\n",
       "      <th>cantidad</th>\n",
       "      <th>precio_unitario</th>\n",
       "      <th>importe</th>\n",
       "    </tr>\n",
       "  </thead>\n",
       "  <tbody>\n",
       "    <tr>\n",
       "      <th>0</th>\n",
       "      <td>1</td>\n",
       "      <td>90</td>\n",
       "      <td>Toallas Húmedas x50</td>\n",
       "      <td>1</td>\n",
       "      <td>2902</td>\n",
       "      <td>2902</td>\n",
       "    </tr>\n",
       "    <tr>\n",
       "      <th>1</th>\n",
       "      <td>2</td>\n",
       "      <td>82</td>\n",
       "      <td>Aceitunas Negras 200g</td>\n",
       "      <td>5</td>\n",
       "      <td>2394</td>\n",
       "      <td>11970</td>\n",
       "    </tr>\n",
       "    <tr>\n",
       "      <th>2</th>\n",
       "      <td>2</td>\n",
       "      <td>39</td>\n",
       "      <td>Helado Vainilla 1L</td>\n",
       "      <td>5</td>\n",
       "      <td>469</td>\n",
       "      <td>2345</td>\n",
       "    </tr>\n",
       "    <tr>\n",
       "      <th>3</th>\n",
       "      <td>2</td>\n",
       "      <td>70</td>\n",
       "      <td>Fernet 750ml</td>\n",
       "      <td>2</td>\n",
       "      <td>4061</td>\n",
       "      <td>8122</td>\n",
       "    </tr>\n",
       "    <tr>\n",
       "      <th>4</th>\n",
       "      <td>2</td>\n",
       "      <td>22</td>\n",
       "      <td>Medialunas de Manteca</td>\n",
       "      <td>1</td>\n",
       "      <td>2069</td>\n",
       "      <td>2069</td>\n",
       "    </tr>\n",
       "  </tbody>\n",
       "</table>\n",
       "</div>"
      ],
      "text/plain": [
       "   id_venta  id_producto        nombre_producto  cantidad  precio_unitario  \\\n",
       "0         1           90    Toallas Húmedas x50         1             2902   \n",
       "1         2           82  Aceitunas Negras 200g         5             2394   \n",
       "2         2           39     Helado Vainilla 1L         5              469   \n",
       "3         2           70           Fernet 750ml         2             4061   \n",
       "4         2           22  Medialunas de Manteca         1             2069   \n",
       "\n",
       "   importe  \n",
       "0     2902  \n",
       "1    11970  \n",
       "2     2345  \n",
       "3     8122  \n",
       "4     2069  "
      ]
     },
     "execution_count": 25,
     "metadata": {},
     "output_type": "execute_result"
    }
   ],
   "source": [
    "# Carga el detalle de ventas con Path para mantener rutas relativas portables\n",
    "path_dataset = Path('db') / 'detalle_ventas.xlsx'\n",
    "df_detall_venta_c = pd.read_excel(path_dataset)\n",
    "\n",
    "# Obtiene una vista preliminar para auditar columnas y tipos\n",
    "df_detall_venta_c.head()\n"
   ]
  },
  {
   "cell_type": "markdown",
   "id": "5ebc37cd",
   "metadata": {},
   "source": [
    "## 🔍 Inspección Inicial del Dataset\n",
    "\n",
    "En esta etapa se realiza una **inspección exploratoria básica** del DataFrame `df_detall_venta_c` recién cargado, con el objetivo de verificar que los datos se hayan importado correctamente y posean la estructura esperada.\n",
    "\n",
    "Para ello, se utilizan las funciones:"
   ]
  },
  {
   "cell_type": "code",
   "execution_count": 26,
   "id": "0b70b8ab",
   "metadata": {},
   "outputs": [
    {
     "data": {
      "text/html": [
       "<div>\n",
       "<style scoped>\n",
       "    .dataframe tbody tr th:only-of-type {\n",
       "        vertical-align: middle;\n",
       "    }\n",
       "\n",
       "    .dataframe tbody tr th {\n",
       "        vertical-align: top;\n",
       "    }\n",
       "\n",
       "    .dataframe thead th {\n",
       "        text-align: right;\n",
       "    }\n",
       "</style>\n",
       "<table border=\"1\" class=\"dataframe\">\n",
       "  <thead>\n",
       "    <tr style=\"text-align: right;\">\n",
       "      <th></th>\n",
       "      <th>id_venta</th>\n",
       "      <th>id_producto</th>\n",
       "      <th>nombre_producto</th>\n",
       "      <th>cantidad</th>\n",
       "      <th>precio_unitario</th>\n",
       "      <th>importe</th>\n",
       "    </tr>\n",
       "  </thead>\n",
       "  <tbody>\n",
       "    <tr>\n",
       "      <th>0</th>\n",
       "      <td>1</td>\n",
       "      <td>90</td>\n",
       "      <td>Toallas Húmedas x50</td>\n",
       "      <td>1</td>\n",
       "      <td>2902</td>\n",
       "      <td>2902</td>\n",
       "    </tr>\n",
       "    <tr>\n",
       "      <th>1</th>\n",
       "      <td>2</td>\n",
       "      <td>82</td>\n",
       "      <td>Aceitunas Negras 200g</td>\n",
       "      <td>5</td>\n",
       "      <td>2394</td>\n",
       "      <td>11970</td>\n",
       "    </tr>\n",
       "    <tr>\n",
       "      <th>2</th>\n",
       "      <td>2</td>\n",
       "      <td>39</td>\n",
       "      <td>Helado Vainilla 1L</td>\n",
       "      <td>5</td>\n",
       "      <td>469</td>\n",
       "      <td>2345</td>\n",
       "    </tr>\n",
       "    <tr>\n",
       "      <th>3</th>\n",
       "      <td>2</td>\n",
       "      <td>70</td>\n",
       "      <td>Fernet 750ml</td>\n",
       "      <td>2</td>\n",
       "      <td>4061</td>\n",
       "      <td>8122</td>\n",
       "    </tr>\n",
       "    <tr>\n",
       "      <th>4</th>\n",
       "      <td>2</td>\n",
       "      <td>22</td>\n",
       "      <td>Medialunas de Manteca</td>\n",
       "      <td>1</td>\n",
       "      <td>2069</td>\n",
       "      <td>2069</td>\n",
       "    </tr>\n",
       "    <tr>\n",
       "      <th>5</th>\n",
       "      <td>2</td>\n",
       "      <td>79</td>\n",
       "      <td>Hamburguesas Congeladas x4</td>\n",
       "      <td>4</td>\n",
       "      <td>2420</td>\n",
       "      <td>9680</td>\n",
       "    </tr>\n",
       "    <tr>\n",
       "      <th>6</th>\n",
       "      <td>3</td>\n",
       "      <td>9</td>\n",
       "      <td>Yerba Mate Suave 1kg</td>\n",
       "      <td>2</td>\n",
       "      <td>3878</td>\n",
       "      <td>7756</td>\n",
       "    </tr>\n",
       "    <tr>\n",
       "      <th>7</th>\n",
       "      <td>3</td>\n",
       "      <td>2</td>\n",
       "      <td>Pepsi 1.5L</td>\n",
       "      <td>2</td>\n",
       "      <td>4973</td>\n",
       "      <td>9946</td>\n",
       "    </tr>\n",
       "  </tbody>\n",
       "</table>\n",
       "</div>"
      ],
      "text/plain": [
       "   id_venta  id_producto             nombre_producto  cantidad  \\\n",
       "0         1           90         Toallas Húmedas x50         1   \n",
       "1         2           82       Aceitunas Negras 200g         5   \n",
       "2         2           39          Helado Vainilla 1L         5   \n",
       "3         2           70                Fernet 750ml         2   \n",
       "4         2           22       Medialunas de Manteca         1   \n",
       "5         2           79  Hamburguesas Congeladas x4         4   \n",
       "6         3            9        Yerba Mate Suave 1kg         2   \n",
       "7         3            2                  Pepsi 1.5L         2   \n",
       "\n",
       "   precio_unitario  importe  \n",
       "0             2902     2902  \n",
       "1             2394    11970  \n",
       "2              469     2345  \n",
       "3             4061     8122  \n",
       "4             2069     2069  \n",
       "5             2420     9680  \n",
       "6             3878     7756  \n",
       "7             4973     9946  "
      ]
     },
     "execution_count": 26,
     "metadata": {},
     "output_type": "execute_result"
    }
   ],
   "source": [
    "# Ampl?a la inspecci?n a 8 filas para descubrir valores at?picos iniciales\n",
    "df_detall_venta_c.head(8)\n"
   ]
  },
  {
   "cell_type": "code",
   "execution_count": 27,
   "id": "708663d7",
   "metadata": {},
   "outputs": [
    {
     "data": {
      "text/html": [
       "<div>\n",
       "<style scoped>\n",
       "    .dataframe tbody tr th:only-of-type {\n",
       "        vertical-align: middle;\n",
       "    }\n",
       "\n",
       "    .dataframe tbody tr th {\n",
       "        vertical-align: top;\n",
       "    }\n",
       "\n",
       "    .dataframe thead th {\n",
       "        text-align: right;\n",
       "    }\n",
       "</style>\n",
       "<table border=\"1\" class=\"dataframe\">\n",
       "  <thead>\n",
       "    <tr style=\"text-align: right;\">\n",
       "      <th></th>\n",
       "      <th>id_venta</th>\n",
       "      <th>id_producto</th>\n",
       "      <th>nombre_producto</th>\n",
       "      <th>cantidad</th>\n",
       "      <th>precio_unitario</th>\n",
       "      <th>importe</th>\n",
       "    </tr>\n",
       "  </thead>\n",
       "  <tbody>\n",
       "    <tr>\n",
       "      <th>339</th>\n",
       "      <td>118</td>\n",
       "      <td>93</td>\n",
       "      <td>Cepillo de Dientes</td>\n",
       "      <td>3</td>\n",
       "      <td>2142</td>\n",
       "      <td>6426</td>\n",
       "    </tr>\n",
       "    <tr>\n",
       "      <th>340</th>\n",
       "      <td>118</td>\n",
       "      <td>50</td>\n",
       "      <td>Azúcar 1kg</td>\n",
       "      <td>2</td>\n",
       "      <td>727</td>\n",
       "      <td>1454</td>\n",
       "    </tr>\n",
       "    <tr>\n",
       "      <th>341</th>\n",
       "      <td>119</td>\n",
       "      <td>45</td>\n",
       "      <td>Fideos Spaghetti 500g</td>\n",
       "      <td>5</td>\n",
       "      <td>745</td>\n",
       "      <td>3725</td>\n",
       "    </tr>\n",
       "    <tr>\n",
       "      <th>342</th>\n",
       "      <td>120</td>\n",
       "      <td>20</td>\n",
       "      <td>Pan Lactal Blanco</td>\n",
       "      <td>5</td>\n",
       "      <td>1571</td>\n",
       "      <td>7855</td>\n",
       "    </tr>\n",
       "  </tbody>\n",
       "</table>\n",
       "</div>"
      ],
      "text/plain": [
       "     id_venta  id_producto        nombre_producto  cantidad  precio_unitario  \\\n",
       "339       118           93     Cepillo de Dientes         3             2142   \n",
       "340       118           50             Azúcar 1kg         2              727   \n",
       "341       119           45  Fideos Spaghetti 500g         5              745   \n",
       "342       120           20      Pan Lactal Blanco         5             1571   \n",
       "\n",
       "     importe  \n",
       "339     6426  \n",
       "340     1454  \n",
       "341     3725  \n",
       "342     7855  "
      ]
     },
     "execution_count": 27,
     "metadata": {},
     "output_type": "execute_result"
    }
   ],
   "source": [
    "# Revisa el cierre del dataset con las ?ltimas 4 filas\n",
    "df_detall_venta_c.tail(4)\n"
   ]
  },
  {
   "cell_type": "markdown",
   "id": "b5072431",
   "metadata": {},
   "source": [
    "## 🧠 Exploración de Tipos de Datos y Valores Nulos\n",
    "\n",
    "En esta etapa se realiza una **revisión estructural del DataFrame** para confirmar que los tipos de datos asignados a cada variable durante la lectura con `pd.read_excel()` sean correctos y coherentes con la naturaleza de la información (por ejemplo, fechas, números, textos, etc.).\n",
    "\n",
    "Además, se evalúa la **presencia de valores nulos o faltantes**, los cuales podrían requerir tratamiento posterior durante el proceso de limpieza y estandarización.\n",
    "\n",
    "### 🧩 Procedimiento"
   ]
  },
  {
   "cell_type": "code",
   "execution_count": 28,
   "id": "1e2b0ea5",
   "metadata": {},
   "outputs": [
    {
     "name": "stdout",
     "output_type": "stream",
     "text": [
      "<class 'pandas.core.frame.DataFrame'>\n",
      "RangeIndex: 343 entries, 0 to 342\n",
      "Data columns (total 6 columns):\n",
      " #   Column           Non-Null Count  Dtype \n",
      "---  ------           --------------  ----- \n",
      " 0   id_venta         343 non-null    int64 \n",
      " 1   id_producto      343 non-null    int64 \n",
      " 2   nombre_producto  343 non-null    object\n",
      " 3   cantidad         343 non-null    int64 \n",
      " 4   precio_unitario  343 non-null    int64 \n",
      " 5   importe          343 non-null    int64 \n",
      "dtypes: int64(5), object(1)\n",
      "memory usage: 16.2+ KB\n"
     ]
    }
   ],
   "source": [
    "# Sintetiza estructura de columnas, tipos dtypes y nulos del dataframe crudo\n",
    "df_detall_venta_c.info()\n"
   ]
  },
  {
   "cell_type": "markdown",
   "id": "426679c3",
   "metadata": {},
   "source": [
    "\n",
    "> 💡 **Conclusión:**  \n",
    "> A partir de la ejecución del comando `df_detall_venta_c.info()`, se observa que la base de datos cuenta con **343 registros** distribuidos en **6 columnas**.  \n",
    "> Cada columna presenta **343 valores no nulos**, lo que indica que **no existen datos faltantes (NaN)** en el dataset.\n"
   ]
  },
  {
   "cell_type": "markdown",
   "id": "4473aefd",
   "metadata": {},
   "source": [
    "### 🕵️‍♂️ Detección de Valores Nulos\n",
    "\n",
    "Se analiza la presencia de valores faltantes para priorizar acciones de limpieza y asegurar la consistencia del dataset."
   ]
  },
  {
   "cell_type": "code",
   "execution_count": 29,
   "id": "1b1dc34e",
   "metadata": {},
   "outputs": [
    {
     "data": {
      "text/html": [
       "<div>\n",
       "<style scoped>\n",
       "    .dataframe tbody tr th:only-of-type {\n",
       "        vertical-align: middle;\n",
       "    }\n",
       "\n",
       "    .dataframe tbody tr th {\n",
       "        vertical-align: top;\n",
       "    }\n",
       "\n",
       "    .dataframe thead th {\n",
       "        text-align: right;\n",
       "    }\n",
       "</style>\n",
       "<table border=\"1\" class=\"dataframe\">\n",
       "  <thead>\n",
       "    <tr style=\"text-align: right;\">\n",
       "      <th></th>\n",
       "      <th>id_venta</th>\n",
       "      <th>id_producto</th>\n",
       "      <th>nombre_producto</th>\n",
       "      <th>cantidad</th>\n",
       "      <th>precio_unitario</th>\n",
       "      <th>importe</th>\n",
       "    </tr>\n",
       "  </thead>\n",
       "  <tbody>\n",
       "    <tr>\n",
       "      <th>0</th>\n",
       "      <td>False</td>\n",
       "      <td>False</td>\n",
       "      <td>False</td>\n",
       "      <td>False</td>\n",
       "      <td>False</td>\n",
       "      <td>False</td>\n",
       "    </tr>\n",
       "    <tr>\n",
       "      <th>1</th>\n",
       "      <td>False</td>\n",
       "      <td>False</td>\n",
       "      <td>False</td>\n",
       "      <td>False</td>\n",
       "      <td>False</td>\n",
       "      <td>False</td>\n",
       "    </tr>\n",
       "    <tr>\n",
       "      <th>2</th>\n",
       "      <td>False</td>\n",
       "      <td>False</td>\n",
       "      <td>False</td>\n",
       "      <td>False</td>\n",
       "      <td>False</td>\n",
       "      <td>False</td>\n",
       "    </tr>\n",
       "    <tr>\n",
       "      <th>3</th>\n",
       "      <td>False</td>\n",
       "      <td>False</td>\n",
       "      <td>False</td>\n",
       "      <td>False</td>\n",
       "      <td>False</td>\n",
       "      <td>False</td>\n",
       "    </tr>\n",
       "    <tr>\n",
       "      <th>4</th>\n",
       "      <td>False</td>\n",
       "      <td>False</td>\n",
       "      <td>False</td>\n",
       "      <td>False</td>\n",
       "      <td>False</td>\n",
       "      <td>False</td>\n",
       "    </tr>\n",
       "    <tr>\n",
       "      <th>...</th>\n",
       "      <td>...</td>\n",
       "      <td>...</td>\n",
       "      <td>...</td>\n",
       "      <td>...</td>\n",
       "      <td>...</td>\n",
       "      <td>...</td>\n",
       "    </tr>\n",
       "    <tr>\n",
       "      <th>338</th>\n",
       "      <td>False</td>\n",
       "      <td>False</td>\n",
       "      <td>False</td>\n",
       "      <td>False</td>\n",
       "      <td>False</td>\n",
       "      <td>False</td>\n",
       "    </tr>\n",
       "    <tr>\n",
       "      <th>339</th>\n",
       "      <td>False</td>\n",
       "      <td>False</td>\n",
       "      <td>False</td>\n",
       "      <td>False</td>\n",
       "      <td>False</td>\n",
       "      <td>False</td>\n",
       "    </tr>\n",
       "    <tr>\n",
       "      <th>340</th>\n",
       "      <td>False</td>\n",
       "      <td>False</td>\n",
       "      <td>False</td>\n",
       "      <td>False</td>\n",
       "      <td>False</td>\n",
       "      <td>False</td>\n",
       "    </tr>\n",
       "    <tr>\n",
       "      <th>341</th>\n",
       "      <td>False</td>\n",
       "      <td>False</td>\n",
       "      <td>False</td>\n",
       "      <td>False</td>\n",
       "      <td>False</td>\n",
       "      <td>False</td>\n",
       "    </tr>\n",
       "    <tr>\n",
       "      <th>342</th>\n",
       "      <td>False</td>\n",
       "      <td>False</td>\n",
       "      <td>False</td>\n",
       "      <td>False</td>\n",
       "      <td>False</td>\n",
       "      <td>False</td>\n",
       "    </tr>\n",
       "  </tbody>\n",
       "</table>\n",
       "<p>343 rows × 6 columns</p>\n",
       "</div>"
      ],
      "text/plain": [
       "     id_venta  id_producto  nombre_producto  cantidad  precio_unitario  \\\n",
       "0       False        False            False     False            False   \n",
       "1       False        False            False     False            False   \n",
       "2       False        False            False     False            False   \n",
       "3       False        False            False     False            False   \n",
       "4       False        False            False     False            False   \n",
       "..        ...          ...              ...       ...              ...   \n",
       "338     False        False            False     False            False   \n",
       "339     False        False            False     False            False   \n",
       "340     False        False            False     False            False   \n",
       "341     False        False            False     False            False   \n",
       "342     False        False            False     False            False   \n",
       "\n",
       "     importe  \n",
       "0      False  \n",
       "1      False  \n",
       "2      False  \n",
       "3      False  \n",
       "4      False  \n",
       "..       ...  \n",
       "338    False  \n",
       "339    False  \n",
       "340    False  \n",
       "341    False  \n",
       "342    False  \n",
       "\n",
       "[343 rows x 6 columns]"
      ]
     },
     "execution_count": 29,
     "metadata": {},
     "output_type": "execute_result"
    }
   ],
   "source": [
    "# Genera una m?scara booleana que marca con True cada celda nula\n",
    "df_detall_venta_c.isnull()\n"
   ]
  },
  {
   "cell_type": "code",
   "execution_count": 30,
   "id": "c024d7a3",
   "metadata": {},
   "outputs": [
    {
     "data": {
      "text/plain": [
       "id_venta           0\n",
       "id_producto        0\n",
       "nombre_producto    0\n",
       "cantidad           0\n",
       "precio_unitario    0\n",
       "importe            0\n",
       "dtype: int64"
      ]
     },
     "execution_count": 30,
     "metadata": {},
     "output_type": "execute_result"
    }
   ],
   "source": [
    "# Resume la cantidad total de nulos por columna para orientar la limpieza\n",
    "df_detall_venta_c.isnull().sum()\n"
   ]
  },
  {
   "cell_type": "markdown",
   "id": "ac9f54e1",
   "metadata": {},
   "source": [
    "## ⚙️ Normalización y Corrección de Tipos de Datos\n",
    "\n",
    "Antes de realizar la normalización de la base de datos, es necesario **verificar y corregir los tipos de datos** asignados a las variables numéricas.  \n",
    "En este caso, las columnas `precio_unitario` e `importe` fueron cargadas con tipo `int64`, pero deben representarse como valores decimales (`float64`) para reflejar correctamente los montos monetarios.\n",
    "\n",
    "### 🧩 Fundamento\n",
    "\n",
    "Corregir los tipos de datos garantiza la **precisión numérica** en cálculos y estadísticas.  \n",
    "Si se mantuvieran como enteros, se perdería información decimal y se podrían producir errores al calcular promedios, totales o al aplicar operaciones aritméticas.\n",
    "\n",
    "Este paso forma parte del proceso de **limpieza estructural** dentro de la metodología ETL (Extract, Transform, Load):\n",
    "\n",
    "1. **Extracción:** se importan los datos desde el archivo Excel.  \n",
    "2. **Transformación estructural:** se ajustan los tipos de datos para asegurar coherencia.  \n",
    "3. **Normalización:** se reorganiza la base, eliminando redundancias o columnas innecesarias.\n",
    "\n",
    "### 🧮 Procedimiento\n",
    "\n",
    "- Se aplican las transformaciones para:\n",
    "\n",
    "     **Monetarias(decimales):** Convertir `precio_unitario` e `importe`, el tipo `float` (decimal) para asegurar la precisión numérica y habilitar análisis estadisticos o escalado."
   ]
  },
  {
   "cell_type": "code",
   "execution_count": 31,
   "id": "ee61f958",
   "metadata": {},
   "outputs": [],
   "source": [
    "# Converte campos monetarios a float para habilitar estad?sticas y escalado\n",
    "df_detall_venta_c[\"precio_unitario\"] = df_detall_venta_c[\"precio_unitario\"].astype(float)\n",
    "df_detall_venta_c[\"importe\"] = df_detall_venta_c[\"importe\"].astype(float)\n"
   ]
  },
  {
   "cell_type": "markdown",
   "id": "a22bcdab",
   "metadata": {},
   "source": [
    "#### 🕵️‍♂️ Verificación de Transformaciones\n",
    "\n",
    "Se valida que los cambios aplicados hayan surtido efecto tanto en los tipos de datos como en los valores muestreados."
   ]
  },
  {
   "cell_type": "code",
   "execution_count": 32,
   "id": "6e44862d",
   "metadata": {},
   "outputs": [
    {
     "data": {
      "text/plain": [
       "precio_unitario    float64\n",
       "importe            float64\n",
       "dtype: object"
      ]
     },
     "execution_count": 32,
     "metadata": {},
     "output_type": "execute_result"
    }
   ],
   "source": [
    "# Verifica que ambas columnas hayan quedado tipadas como float64\n",
    "df_detall_venta_c[[\"precio_unitario\", \"importe\"]].dtypes\n"
   ]
  },
  {
   "cell_type": "code",
   "execution_count": 33,
   "id": "aff1a90e",
   "metadata": {},
   "outputs": [
    {
     "data": {
      "text/html": [
       "<div>\n",
       "<style scoped>\n",
       "    .dataframe tbody tr th:only-of-type {\n",
       "        vertical-align: middle;\n",
       "    }\n",
       "\n",
       "    .dataframe tbody tr th {\n",
       "        vertical-align: top;\n",
       "    }\n",
       "\n",
       "    .dataframe thead th {\n",
       "        text-align: right;\n",
       "    }\n",
       "</style>\n",
       "<table border=\"1\" class=\"dataframe\">\n",
       "  <thead>\n",
       "    <tr style=\"text-align: right;\">\n",
       "      <th></th>\n",
       "      <th>precio_unitario</th>\n",
       "      <th>importe</th>\n",
       "    </tr>\n",
       "  </thead>\n",
       "  <tbody>\n",
       "    <tr>\n",
       "      <th>0</th>\n",
       "      <td>2902.0</td>\n",
       "      <td>2902.0</td>\n",
       "    </tr>\n",
       "    <tr>\n",
       "      <th>1</th>\n",
       "      <td>2394.0</td>\n",
       "      <td>11970.0</td>\n",
       "    </tr>\n",
       "    <tr>\n",
       "      <th>2</th>\n",
       "      <td>469.0</td>\n",
       "      <td>2345.0</td>\n",
       "    </tr>\n",
       "    <tr>\n",
       "      <th>3</th>\n",
       "      <td>4061.0</td>\n",
       "      <td>8122.0</td>\n",
       "    </tr>\n",
       "    <tr>\n",
       "      <th>4</th>\n",
       "      <td>2069.0</td>\n",
       "      <td>2069.0</td>\n",
       "    </tr>\n",
       "  </tbody>\n",
       "</table>\n",
       "</div>"
      ],
      "text/plain": [
       "   precio_unitario  importe\n",
       "0           2902.0   2902.0\n",
       "1           2394.0  11970.0\n",
       "2            469.0   2345.0\n",
       "3           4061.0   8122.0\n",
       "4           2069.0   2069.0"
      ]
     },
     "execution_count": 33,
     "metadata": {},
     "output_type": "execute_result"
    }
   ],
   "source": [
    "# Muestra valores actualizados para confirmar la conversi?n num?rica\n",
    "df_detall_venta_c[[\"precio_unitario\", \"importe\"]].head()\n"
   ]
  },
  {
   "cell_type": "markdown",
   "id": "bb18a7fe",
   "metadata": {},
   "source": [
    "#### 🧩 Normalización de la Base de Datos\n",
    "\n",
    "En esta etapa se aplica la **forma de normalización** sobre el DataFrame `df_detall_venta_c`, eliminando la columna `nombre_producto`.  \n",
    "Esta variable presenta información redundante respecto a `id_producto`, por lo que se suprime para evitar duplicidad de datos y mantener la integridad estructural de la base."
   ]
  },
  {
   "cell_type": "code",
   "execution_count": 34,
   "id": "250dbcb1",
   "metadata": {},
   "outputs": [],
   "source": [
    "# Genera df_detall_venta_True sin la dimensi?n redundante 'nombre_producto'\n",
    "df_detall_venta_True = df_detall_venta_c.drop(columns=['nombre_producto'])\n"
   ]
  },
  {
   "cell_type": "markdown",
   "id": "90f9638a",
   "metadata": {},
   "source": [
    "## 📊 Análisis Estadístico Descriptivo\n",
    "\n",
    "En este paso se aplica el método `describe()` sobre la base normalizada `df_detall_venta_True`, con el fin de obtener un **resumen estadístico básico** de las variables numéricas.\n",
    "\n",
    "### ⚙️ Procedimiento"
   ]
  },
  {
   "cell_type": "code",
   "execution_count": 35,
   "id": "1b4e987f",
   "metadata": {},
   "outputs": [
    {
     "data": {
      "text/html": [
       "<div>\n",
       "<style scoped>\n",
       "    .dataframe tbody tr th:only-of-type {\n",
       "        vertical-align: middle;\n",
       "    }\n",
       "\n",
       "    .dataframe tbody tr th {\n",
       "        vertical-align: top;\n",
       "    }\n",
       "\n",
       "    .dataframe thead th {\n",
       "        text-align: right;\n",
       "    }\n",
       "</style>\n",
       "<table border=\"1\" class=\"dataframe\">\n",
       "  <thead>\n",
       "    <tr style=\"text-align: right;\">\n",
       "      <th></th>\n",
       "      <th>id_venta</th>\n",
       "      <th>id_producto</th>\n",
       "      <th>cantidad</th>\n",
       "      <th>precio_unitario</th>\n",
       "      <th>importe</th>\n",
       "    </tr>\n",
       "  </thead>\n",
       "  <tbody>\n",
       "    <tr>\n",
       "      <th>count</th>\n",
       "      <td>343.000000</td>\n",
       "      <td>343.000000</td>\n",
       "      <td>343.000000</td>\n",
       "      <td>343.000000</td>\n",
       "      <td>343.000000</td>\n",
       "    </tr>\n",
       "    <tr>\n",
       "      <th>mean</th>\n",
       "      <td>61.492711</td>\n",
       "      <td>49.139942</td>\n",
       "      <td>2.962099</td>\n",
       "      <td>2654.495627</td>\n",
       "      <td>7730.078717</td>\n",
       "    </tr>\n",
       "    <tr>\n",
       "      <th>std</th>\n",
       "      <td>34.835525</td>\n",
       "      <td>29.135461</td>\n",
       "      <td>1.366375</td>\n",
       "      <td>1308.694720</td>\n",
       "      <td>5265.543077</td>\n",
       "    </tr>\n",
       "    <tr>\n",
       "      <th>min</th>\n",
       "      <td>1.000000</td>\n",
       "      <td>1.000000</td>\n",
       "      <td>1.000000</td>\n",
       "      <td>272.000000</td>\n",
       "      <td>272.000000</td>\n",
       "    </tr>\n",
       "    <tr>\n",
       "      <th>25%</th>\n",
       "      <td>31.000000</td>\n",
       "      <td>23.000000</td>\n",
       "      <td>2.000000</td>\n",
       "      <td>1618.500000</td>\n",
       "      <td>3489.000000</td>\n",
       "    </tr>\n",
       "    <tr>\n",
       "      <th>50%</th>\n",
       "      <td>61.000000</td>\n",
       "      <td>47.000000</td>\n",
       "      <td>3.000000</td>\n",
       "      <td>2512.000000</td>\n",
       "      <td>6702.000000</td>\n",
       "    </tr>\n",
       "    <tr>\n",
       "      <th>75%</th>\n",
       "      <td>93.000000</td>\n",
       "      <td>76.000000</td>\n",
       "      <td>4.000000</td>\n",
       "      <td>3876.000000</td>\n",
       "      <td>10231.500000</td>\n",
       "    </tr>\n",
       "    <tr>\n",
       "      <th>max</th>\n",
       "      <td>120.000000</td>\n",
       "      <td>100.000000</td>\n",
       "      <td>5.000000</td>\n",
       "      <td>4982.000000</td>\n",
       "      <td>24865.000000</td>\n",
       "    </tr>\n",
       "  </tbody>\n",
       "</table>\n",
       "</div>"
      ],
      "text/plain": [
       "         id_venta  id_producto    cantidad  precio_unitario       importe\n",
       "count  343.000000   343.000000  343.000000       343.000000    343.000000\n",
       "mean    61.492711    49.139942    2.962099      2654.495627   7730.078717\n",
       "std     34.835525    29.135461    1.366375      1308.694720   5265.543077\n",
       "min      1.000000     1.000000    1.000000       272.000000    272.000000\n",
       "25%     31.000000    23.000000    2.000000      1618.500000   3489.000000\n",
       "50%     61.000000    47.000000    3.000000      2512.000000   6702.000000\n",
       "75%     93.000000    76.000000    4.000000      3876.000000  10231.500000\n",
       "max    120.000000   100.000000    5.000000      4982.000000  24865.000000"
      ]
     },
     "execution_count": 35,
     "metadata": {},
     "output_type": "execute_result"
    }
   ],
   "source": [
    "# Obtiene estad?sticos descriptivos b?sicos para variables num?ricas\n",
    "df_detall_venta_True.describe()\n"
   ]
  },
  {
   "cell_type": "code",
   "execution_count": 36,
   "id": "4ae32b29",
   "metadata": {},
   "outputs": [
    {
     "data": {
      "text/html": [
       "<div>\n",
       "<style scoped>\n",
       "    .dataframe tbody tr th:only-of-type {\n",
       "        vertical-align: middle;\n",
       "    }\n",
       "\n",
       "    .dataframe tbody tr th {\n",
       "        vertical-align: top;\n",
       "    }\n",
       "\n",
       "    .dataframe thead th {\n",
       "        text-align: right;\n",
       "    }\n",
       "</style>\n",
       "<table border=\"1\" class=\"dataframe\">\n",
       "  <thead>\n",
       "    <tr style=\"text-align: right;\">\n",
       "      <th></th>\n",
       "      <th>id_venta</th>\n",
       "      <th>id_producto</th>\n",
       "      <th>cantidad</th>\n",
       "      <th>precio_unitario</th>\n",
       "      <th>importe</th>\n",
       "    </tr>\n",
       "  </thead>\n",
       "  <tbody>\n",
       "    <tr>\n",
       "      <th>count</th>\n",
       "      <td>343.000000</td>\n",
       "      <td>343.000000</td>\n",
       "      <td>343.000000</td>\n",
       "      <td>343.000000</td>\n",
       "      <td>343.000000</td>\n",
       "    </tr>\n",
       "    <tr>\n",
       "      <th>mean</th>\n",
       "      <td>61.492711</td>\n",
       "      <td>49.139942</td>\n",
       "      <td>2.962099</td>\n",
       "      <td>2654.495627</td>\n",
       "      <td>7730.078717</td>\n",
       "    </tr>\n",
       "    <tr>\n",
       "      <th>std</th>\n",
       "      <td>34.835525</td>\n",
       "      <td>29.135461</td>\n",
       "      <td>1.366375</td>\n",
       "      <td>1308.694720</td>\n",
       "      <td>5265.543077</td>\n",
       "    </tr>\n",
       "    <tr>\n",
       "      <th>min</th>\n",
       "      <td>1.000000</td>\n",
       "      <td>1.000000</td>\n",
       "      <td>1.000000</td>\n",
       "      <td>272.000000</td>\n",
       "      <td>272.000000</td>\n",
       "    </tr>\n",
       "    <tr>\n",
       "      <th>25%</th>\n",
       "      <td>31.000000</td>\n",
       "      <td>23.000000</td>\n",
       "      <td>2.000000</td>\n",
       "      <td>1618.500000</td>\n",
       "      <td>3489.000000</td>\n",
       "    </tr>\n",
       "    <tr>\n",
       "      <th>50%</th>\n",
       "      <td>61.000000</td>\n",
       "      <td>47.000000</td>\n",
       "      <td>3.000000</td>\n",
       "      <td>2512.000000</td>\n",
       "      <td>6702.000000</td>\n",
       "    </tr>\n",
       "    <tr>\n",
       "      <th>75%</th>\n",
       "      <td>93.000000</td>\n",
       "      <td>76.000000</td>\n",
       "      <td>4.000000</td>\n",
       "      <td>3876.000000</td>\n",
       "      <td>10231.500000</td>\n",
       "    </tr>\n",
       "    <tr>\n",
       "      <th>max</th>\n",
       "      <td>120.000000</td>\n",
       "      <td>100.000000</td>\n",
       "      <td>5.000000</td>\n",
       "      <td>4982.000000</td>\n",
       "      <td>24865.000000</td>\n",
       "    </tr>\n",
       "  </tbody>\n",
       "</table>\n",
       "</div>"
      ],
      "text/plain": [
       "         id_venta  id_producto    cantidad  precio_unitario       importe\n",
       "count  343.000000   343.000000  343.000000       343.000000    343.000000\n",
       "mean    61.492711    49.139942    2.962099      2654.495627   7730.078717\n",
       "std     34.835525    29.135461    1.366375      1308.694720   5265.543077\n",
       "min      1.000000     1.000000    1.000000       272.000000    272.000000\n",
       "25%     31.000000    23.000000    2.000000      1618.500000   3489.000000\n",
       "50%     61.000000    47.000000    3.000000      2512.000000   6702.000000\n",
       "75%     93.000000    76.000000    4.000000      3876.000000  10231.500000\n",
       "max    120.000000   100.000000    5.000000      4982.000000  24865.000000"
      ]
     },
     "execution_count": 36,
     "metadata": {},
     "output_type": "execute_result"
    }
   ],
   "source": [
    "# Eval?a estad?sticos extendidos (incluye categ?ricas) aunque no agregue informaci?n nueva\n",
    "df_detall_venta_True.describe(include='all')\n"
   ]
  },
  {
   "cell_type": "markdown",
   "id": "20878c91",
   "metadata": {},
   "source": [
    "> 💡 **Conclusión:**  \n",
    "> El DataFrame `df_detall_venta_True` no requiere corrección de valores faltantes.  \n",
    "> Se puede avanzar directamente hacia la siguiente fase del análisis exploratorio: **detección de outliers y visualización de distribuciones.**"
   ]
  },
  {
   "cell_type": "markdown",
   "id": "ef2a3e13",
   "metadata": {},
   "source": [
    "### Transformación de Variables - Normalización"
   ]
  },
  {
   "cell_type": "code",
   "execution_count": 37,
   "id": "c7c10917",
   "metadata": {},
   "outputs": [],
   "source": [
    "# Importa escaladores cl?sicos para comparar estrategias de normalizaci?n\n",
    "from sklearn.preprocessing import MinMaxScaler, StandardScaler, RobustScaler\n"
   ]
  },
  {
   "cell_type": "code",
   "execution_count": 38,
   "id": "225866b5",
   "metadata": {},
   "outputs": [],
   "source": [
    "# Aplica StandardScaler a 'importe' para obtener valores centrados y con varianza unitaria\n",
    "scaler_standard = StandardScaler()  # Instancia el escalador z-score\n",
    "importe_std = scaler_standard.fit_transform(df_detall_venta_True[['importe']])  # Ajusta y transforma en una sola operaci?n\n"
   ]
  },
  {
   "cell_type": "code",
   "execution_count": 39,
   "id": "86f7e088",
   "metadata": {},
   "outputs": [
    {
     "data": {
      "text/html": [
       "<div>\n",
       "<style scoped>\n",
       "    .dataframe tbody tr th:only-of-type {\n",
       "        vertical-align: middle;\n",
       "    }\n",
       "\n",
       "    .dataframe tbody tr th {\n",
       "        vertical-align: top;\n",
       "    }\n",
       "\n",
       "    .dataframe thead th {\n",
       "        text-align: right;\n",
       "    }\n",
       "</style>\n",
       "<table border=\"1\" class=\"dataframe\">\n",
       "  <thead>\n",
       "    <tr style=\"text-align: right;\">\n",
       "      <th></th>\n",
       "      <th>id_venta</th>\n",
       "      <th>id_producto</th>\n",
       "      <th>cantidad</th>\n",
       "      <th>precio_unitario</th>\n",
       "      <th>importe</th>\n",
       "    </tr>\n",
       "  </thead>\n",
       "  <tbody>\n",
       "    <tr>\n",
       "      <th>0</th>\n",
       "      <td>1</td>\n",
       "      <td>90</td>\n",
       "      <td>1</td>\n",
       "      <td>2902.0</td>\n",
       "      <td>2902.0</td>\n",
       "    </tr>\n",
       "    <tr>\n",
       "      <th>1</th>\n",
       "      <td>2</td>\n",
       "      <td>82</td>\n",
       "      <td>5</td>\n",
       "      <td>2394.0</td>\n",
       "      <td>11970.0</td>\n",
       "    </tr>\n",
       "    <tr>\n",
       "      <th>2</th>\n",
       "      <td>2</td>\n",
       "      <td>39</td>\n",
       "      <td>5</td>\n",
       "      <td>469.0</td>\n",
       "      <td>2345.0</td>\n",
       "    </tr>\n",
       "  </tbody>\n",
       "</table>\n",
       "</div>"
      ],
      "text/plain": [
       "   id_venta  id_producto  cantidad  precio_unitario  importe\n",
       "0         1           90         1           2902.0   2902.0\n",
       "1         2           82         5           2394.0  11970.0\n",
       "2         2           39         5            469.0   2345.0"
      ]
     },
     "execution_count": 39,
     "metadata": {},
     "output_type": "execute_result"
    }
   ],
   "source": [
    "# Verifica las primeras filas antes de anexar la columna escalada al dataframe\n",
    "df_detall_venta_True.head(3)  # La columna 'importe_std' a?n no forma parte del DataFrame\n"
   ]
  },
  {
   "cell_type": "code",
   "execution_count": 40,
   "id": "5622a070",
   "metadata": {},
   "outputs": [],
   "source": [
    "# Incorpora la columna normalizada 'importe_std' al dataset preparado\n",
    "df_detall_venta_True['importe_std'] = importe_std\n"
   ]
  },
  {
   "cell_type": "code",
   "execution_count": 41,
   "id": "976d3217",
   "metadata": {},
   "outputs": [
    {
     "data": {
      "text/html": [
       "<div>\n",
       "<style scoped>\n",
       "    .dataframe tbody tr th:only-of-type {\n",
       "        vertical-align: middle;\n",
       "    }\n",
       "\n",
       "    .dataframe tbody tr th {\n",
       "        vertical-align: top;\n",
       "    }\n",
       "\n",
       "    .dataframe thead th {\n",
       "        text-align: right;\n",
       "    }\n",
       "</style>\n",
       "<table border=\"1\" class=\"dataframe\">\n",
       "  <thead>\n",
       "    <tr style=\"text-align: right;\">\n",
       "      <th></th>\n",
       "      <th>id_venta</th>\n",
       "      <th>id_producto</th>\n",
       "      <th>cantidad</th>\n",
       "      <th>precio_unitario</th>\n",
       "      <th>importe</th>\n",
       "      <th>importe_std</th>\n",
       "    </tr>\n",
       "  </thead>\n",
       "  <tbody>\n",
       "    <tr>\n",
       "      <th>0</th>\n",
       "      <td>1</td>\n",
       "      <td>90</td>\n",
       "      <td>1</td>\n",
       "      <td>2902.0</td>\n",
       "      <td>2902.0</td>\n",
       "      <td>-0.918259</td>\n",
       "    </tr>\n",
       "    <tr>\n",
       "      <th>1</th>\n",
       "      <td>2</td>\n",
       "      <td>82</td>\n",
       "      <td>5</td>\n",
       "      <td>2394.0</td>\n",
       "      <td>11970.0</td>\n",
       "      <td>0.806396</td>\n",
       "    </tr>\n",
       "    <tr>\n",
       "      <th>2</th>\n",
       "      <td>2</td>\n",
       "      <td>39</td>\n",
       "      <td>5</td>\n",
       "      <td>469.0</td>\n",
       "      <td>2345.0</td>\n",
       "      <td>-1.024196</td>\n",
       "    </tr>\n",
       "  </tbody>\n",
       "</table>\n",
       "</div>"
      ],
      "text/plain": [
       "   id_venta  id_producto  cantidad  precio_unitario  importe  importe_std\n",
       "0         1           90         1           2902.0   2902.0    -0.918259\n",
       "1         2           82         5           2394.0  11970.0     0.806396\n",
       "2         2           39         5            469.0   2345.0    -1.024196"
      ]
     },
     "execution_count": 41,
     "metadata": {},
     "output_type": "execute_result"
    }
   ],
   "source": [
    "# Confirma la incorporaci?n de 'importe_std' y revisa su escala centrada\n",
    "df_detall_venta_True.head(3)  # Valores centrados en 0 y con desviaci?n 1 tras StandardScaler\n"
   ]
  },
  {
   "cell_type": "markdown",
   "id": "f39d4226",
   "metadata": {},
   "source": [
    "### **Anlálisis exploratorio preliminar**"
   ]
  },
  {
   "cell_type": "markdown",
   "id": "15a7c130",
   "metadata": {},
   "source": [
    "#### 📊 Análisis de Distribución (Variable: **importe**)\n",
    "\n",
    "- Se utiliza un **Histograma** o un **Boxplot** para visualizar la forma de la distribución de los importes originales. El objetivo es identificar la presencia de sesgo (ej. cola larga a la derecha) y la magnitud de los *outliers* antes de la estandarización."
   ]
  },
  {
   "cell_type": "code",
   "execution_count": 42,
   "id": "a03f5ed1",
   "metadata": {},
   "outputs": [
    {
     "data": {
      "image/png": "[encoded data removed]",
      "text/plain": [
       "<Figure size 1000x600 with 1 Axes>"
      ]
     },
     "metadata": {},
     "output_type": "display_data"
    }
   ],
   "source": [
    "import matplotlib.pyplot as plt\n",
    "import numpy as np\n",
    "\n",
    "# Serie estandarizada a graficar\n",
    "data_std = df_detall_venta_True['importe_std']\n",
    "\n",
    "# Calcula estad?sticos relevantes para resaltar en el gr?fico\n",
    "media = data_std.mean()\n",
    "mediana = data_std.median()\n",
    "p25 = np.percentile(data_std, 25)\n",
    "p75 = np.percentile(data_std, 75)\n",
    "\n",
    "# Construye histograma con mayor resoluci?n en el rango central\n",
    "plt.figure(figsize=(10,6))\n",
    "plt.hist(data_std, bins=120, range=(-4,4), color='skyblue', edgecolor='black', alpha=0.7)  # Frecuencia real\n",
    "\n",
    "# Destaca la banda intercuart?lica sobre el histograma\n",
    "plt.axvspan(p25, p75, color='yellow', alpha=0.2, label='25%-75%')\n",
    "\n",
    "# A?ade marcadores estad?sticos clave\n",
    "plt.axvline(media, color='red', linestyle='--', linewidth=2, label=f'Media: {media:.2f}')\n",
    "plt.axvline(mediana, color='green', linestyle='-', linewidth=2, label=f'Mediana: {mediana:.2f}')\n",
    "plt.axvline(p25, color='orange', linestyle=':', linewidth=2, label=f'25%: {p25:.2f}')\n",
    "plt.axvline(p75, color='purple', linestyle=':', linewidth=2, label=f'75%: {p75:.2f}')\n",
    "\n",
    "# Configura t?tulos, etiquetas y cuadr?cula\n",
    "plt.title(r'Histograma de $\\mathbf{importe\\_std}$ con estad?sticos', fontsize=14)\n",
    "plt.xlabel(r'$\\mathbf{importe\\_std}$', fontsize=12)\n",
    "plt.ylabel('Frecuencia', fontsize=12)\n",
    "plt.legend()\n",
    "plt.grid(axis='y', alpha=0.3)\n",
    "plt.show()\n"
   ]
  },
  {
   "cell_type": "markdown",
   "id": "e0e6aa1c",
   "metadata": {},
   "source": [
    "### 🧩 **Conclusión del Histograma de `importe`**\n",
    "\n",
    "La distribución de `importe` muestra una **asimetría positiva** (sesgo a la derecha), con la mayoría de las ventas concentradas en valores medios y una cola extendida hacia los importes más altos.  \n",
    "La **media superior a la mediana** confirma este sesgo, indicando que existen algunas ventas de alto valor que elevan el promedio.  \n",
    "\n",
    "El **rango intercuartílico (IQR)** abarca la mayor parte de los casos típicos de venta, mientras que los valores por encima de Q3 + 1.5×IQR representan **ventas atípicas pero válidas**, usuales en contextos comerciales reales.  \n",
    "Se observa una **curtosis moderada**, lo que implica una concentración razonable de datos alrededor de la media sin una dispersión extrema.\n",
    "\n",
    "> **En síntesis:** la variable `importe` presenta un comportamiento estadístico esperado para datos económicos, donde predominan las transacciones de bajo y mediano monto, acompañadas de pocas operaciones de alto valor que aportan variabilidad natural al conjunto.\n"
   ]
  },
  {
   "cell_type": "markdown",
   "id": "71ffbcf1",
   "metadata": {},
   "source": [
    "#### 📈 Análisis de Estandarización Z-score (Variable: **importe_z**)\n",
    "\n",
    "- Se utiliza un **Gráfico Comparativo** (generalmente un Histograma o un gráfico de densidad) para mostrar la distribución de la variable después de la estandarización Z-score. El objetivo es confirmar que la distribución se centra en la media **cero** y que los *outliers* quedan claramente definidos por su distancia en unidades de desviación estándar (ej. valores > 2σ)."
   ]
  },
  {
   "cell_type": "code",
   "execution_count": 43,
   "id": "ba50c7c7",
   "metadata": {},
   "outputs": [
    {
     "data": {
      "image/png": "[encoded data removed]",
      "text/plain": [
       "<Figure size 1200x600 with 1 Axes>"
      ]
     },
     "metadata": {},
     "output_type": "display_data"
    }
   ],
   "source": [
    "import matplotlib.pyplot as plt\n",
    "import numpy as np\n",
    "\n",
    "# Serie original sin escalar\n",
    "data_imp = df_detall_venta_True['importe']\n",
    "\n",
    "# Obtiene estad?sticos descriptivos que se resaltar?n en el histograma\n",
    "media = data_imp.mean()\n",
    "mediana = data_imp.median()\n",
    "p25 = np.percentile(data_imp, 25)\n",
    "p75 = np.percentile(data_imp, 75)\n",
    "\n",
    "# Define bins logar?tmicos para capturar amplitudes amplias de importe\n",
    "bins_log = np.logspace(np.log10(data_imp.min()), np.log10(data_imp.max()), 50)  # 50 bins log\n",
    "\n",
    "# Dibuja histograma con escala logar?tmica en el eje X\n",
    "plt.figure(figsize=(12,6))\n",
    "plt.hist(data_imp, bins=bins_log, color='skyblue', edgecolor='black', alpha=0.7)\n",
    "plt.xscale('log')\n",
    "\n",
    "# Resalta la dispersi?n central entre Q1 y Q3\n",
    "plt.axvspan(p25, p75, color='yellow', alpha=0.2, label='25%-75%')\n",
    "\n",
    "# A?ade l?neas gu?a para media, mediana y cuartiles\n",
    "plt.axvline(media, color='red', linestyle='--', linewidth=2, label=f'Media: {media:.2f}')\n",
    "plt.axvline(mediana, color='green', linestyle='-', linewidth=2, label=f'Mediana: {mediana:.2f}')\n",
    "plt.axvline(p25, color='orange', linestyle=':', linewidth=2, label=f'25%: {p25:.2f}')\n",
    "plt.axvline(p75, color='purple', linestyle=':', linewidth=2, label=f'75%: {p75:.2f}')\n",
    "\n",
    "# Etiquetas, t?tulo y cuadr?cula de soporte\n",
    "plt.title(r'Histograma de $\\mathbf{importe}$ con estad?sticos', fontsize=14)\n",
    "plt.xlabel(r'$\\mathbf{importe}$', fontsize=12)\n",
    "plt.ylabel('Frecuencia', fontsize=12)\n",
    "plt.legend()\n",
    "plt.grid(axis='y', alpha=0.3)\n",
    "plt.show()\n"
   ]
  },
  {
   "cell_type": "markdown",
   "id": "26603118",
   "metadata": {},
   "source": [
    "### 🧩 **Conclusión del Histograma de `importe_std` (Estandarizado)**\n",
    "\n",
    "Tras aplicar la estandarización mediante `StandardScaler`, la variable `importe_std` mantiene la forma asimétrica original, pero ahora está **centrada en torno a 0** y expresada en **unidades de desviación estándar (σ)**.  \n",
    "Aproximadamente el **68% de las observaciones** se encuentran dentro del rango **-1σ a +1σ**, correspondientes a ventas dentro del comportamiento típico.  \n",
    "\n",
    "Las observaciones que superan las **+2σ** son casos excepcionales —ventas notablemente superiores a la media— y pueden considerarse **outliers moderados** sin ser errores de registro.  \n",
    "Esta transformación **no altera la forma de la distribución**, pero facilita la comparación entre variables y la detección de desviaciones significativas.\n",
    "\n",
    "> **En síntesis:** la estandarización permite analizar los importes desde una perspectiva estadística homogénea, destacando qué tan alejadas están las ventas de la media general y preparando la base para estudios de correlación o modelos predictivos.\n",
    "\n"
   ]
  },
  {
   "cell_type": "markdown",
   "id": "e5ae8bfc",
   "metadata": {},
   "source": [
    "#### 💬 Conclusión global:\n",
    "El análisis conjunto de ambas distribuciones confirma que la base de ventas presenta una **variabilidad natural**, sin sesgos anómalos ni errores de registro.  \n",
    "La estandarización mejora la interpretación estadística y sienta las bases para etapas posteriores de análisis multivariante o detección de patrones."
   ]
  }
 ],
 "metadata": {
  "kernelspec": {
   "display_name": "Python 3",
   "language": "python",
   "name": "python3"
  },
  "language_info": {
   "codemirror_mode": {
    "name": "ipython",
    "version": 3
   },
   "file_extension": ".py",
   "mimetype": "text/x-python",
   "name": "python",
   "nbconvert_exporter": "python",
   "pygments_lexer": "ipython3",
   "version": "3.13.3"
  }
 },
 "nbformat": 4,
 "nbformat_minor": 5
}
