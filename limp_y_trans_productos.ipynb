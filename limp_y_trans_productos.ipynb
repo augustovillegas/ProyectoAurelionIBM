{
 "cells": [
  {
   "cell_type": "markdown",
   "id": "d47bf5e0",
   "metadata": {},
   "source": [
    "# 🏪 Proyecto Aurelion\n",
    "\n",
    "Este notebook documenta el proceso de **análisis, limpieza y transformación de datos** de la tabla `PRODUCTOS` del proyecto *Aurelion*, utilizando la biblioteca **Pandas** en Python.\n",
    "\n",
    "El objetivo es preparar un conjunto de datos estructurado, limpio y estandarizado para posteriores procesos de análisis estadístico, modelado o visualización."
   ]
  },
  {
   "cell_type": "markdown",
   "id": "40140e58",
   "metadata": {},
   "source": [
    "## 📊 Descripción General\n",
    "\n",
    "La tabla `VENTAS` contiene información detallada sobre operaciones comerciales, incluyendo campos de identificación, fechas, montos y categorías de productos.\n",
    "\n",
    "A lo largo de este notebook se realizarán las siguientes tareas principales:\n",
    "\n",
    "- Importación de los datos desde un archivo **Excel (.xlsx)**.  \n",
    "- Creación del dataframe inicial `df_productos_c`.  \n",
    "- Procesamiento, normalización y renombrado de columnas para generar el dataframe limpio `df_productos`.  \n",
    "- Aplicación de operaciones básicas de **limpieza**, **transformación** y **estandarización** de los datos.  \n",
    "- Generación de **estadísticas descriptivas** para comprender la distribución y consistencia de las variables."
   ]
  },
  {
   "cell_type": "markdown",
   "id": "67ecff95",
   "metadata": {},
   "source": [
    "## ⚙️ Limpieza y Transformación de los Datos\n",
    "\n",
    "En esta sección se detallan las operaciones realizadas para asegurar la integridad y coherencia del dataset:\n",
    "\n",
    "1. **Revisión de valores nulos y duplicados.**  \n",
    "   - Identificación y tratamiento de valores faltantes.  \n",
    "   - Eliminación o imputación según el contexto de negocio.\n",
    "\n",
    "2. **Estandarización de tipos de datos.**  \n",
    "   - Conversión de fechas, montos y categorías al formato correcto.  \n",
    "   - Normalización de cadenas y eliminación de espacios o caracteres no deseados.\n",
    "\n",
    "3. **Renombrado de columnas.**  \n",
    "   - Aplicación de nombres consistentes y descriptivos conforme a las buenas prácticas de análisis de datos.\n",
    "\n",
    "4. **Validación del dataframe final.**  \n",
    "   - Verificación de dimensiones, tipos y contenido.  \n",
    "   - Comparación con el dataframe original (`df_productos_c`)."
   ]
  },
  {
   "cell_type": "markdown",
   "id": "2e6022ec",
   "metadata": {},
   "source": [
    "#### Importamos librerias instaladas para implementarlas en el código"
   ]
  },
  {
   "cell_type": "code",
   "execution_count": 3,
   "id": "afa06ef4",
   "metadata": {},
   "outputs": [],
   "source": [
    "# Importa paquetes de an?lisis (pandas/numpy) y visualizaci?n (matplotlib/seaborn) con rutas portables\n",
    "import pandas as pd\n",
    "import numpy as np\n",
    "import matplotlib.pyplot as plt\n",
    "import seaborn as sns\n",
    "from pathlib import Path\n"
   ]
  },
  {
   "cell_type": "markdown",
   "id": "1cdcaf77",
   "metadata": {},
   "source": [
    "## 📥 Carga del Archivo de Datos\n",
    "\n",
    "En esta sección se realiza la **importación del dataset principal** utilizando una **ruta relativa** y la librería `pathlib.Path`. Esto no solo simplifica la ruta, sino que también garantiza que el código sea **portable** y funcione correctamente en diferentes sistemas operativos (Windows, macOS, Linux), siempre y cuando la estructura de directorios se mantenga consistente.\n",
    "\n",
    "> 📂 **Ruta del archivo:**  \n",
    "> El archivo se accede mediante la construcción **`Path('db') / 'productos.xlsx'`**.\n",
    "\n",
    "La lectura del archivo se efectúa mediante la función `pd.read_excel()` de la biblioteca **pandas**, creando el dataframe inicial `df_productos_c`, el cual servirá como base para los procesos posteriores de limpieza y análisis."
   ]
  },
  {
   "cell_type": "code",
   "execution_count": 4,
   "id": "7468838d",
   "metadata": {},
   "outputs": [
    {
     "data": {
      "text/html": [
       "<div>\n",
       "<style scoped>\n",
       "    .dataframe tbody tr th:only-of-type {\n",
       "        vertical-align: middle;\n",
       "    }\n",
       "\n",
       "    .dataframe tbody tr th {\n",
       "        vertical-align: top;\n",
       "    }\n",
       "\n",
       "    .dataframe thead th {\n",
       "        text-align: right;\n",
       "    }\n",
       "</style>\n",
       "<table border=\"1\" class=\"dataframe\">\n",
       "  <thead>\n",
       "    <tr style=\"text-align: right;\">\n",
       "      <th></th>\n",
       "      <th>id_producto</th>\n",
       "      <th>nombre_producto</th>\n",
       "      <th>categoria</th>\n",
       "      <th>precio_unitario</th>\n",
       "    </tr>\n",
       "  </thead>\n",
       "  <tbody>\n",
       "    <tr>\n",
       "      <th>0</th>\n",
       "      <td>1</td>\n",
       "      <td>Coca Cola 1.5L</td>\n",
       "      <td>Alimentos</td>\n",
       "      <td>2347</td>\n",
       "    </tr>\n",
       "    <tr>\n",
       "      <th>1</th>\n",
       "      <td>2</td>\n",
       "      <td>Pepsi 1.5L</td>\n",
       "      <td>Limpieza</td>\n",
       "      <td>4973</td>\n",
       "    </tr>\n",
       "    <tr>\n",
       "      <th>2</th>\n",
       "      <td>3</td>\n",
       "      <td>Sprite 1.5L</td>\n",
       "      <td>Alimentos</td>\n",
       "      <td>4964</td>\n",
       "    </tr>\n",
       "    <tr>\n",
       "      <th>3</th>\n",
       "      <td>4</td>\n",
       "      <td>Fanta Naranja 1.5L</td>\n",
       "      <td>Limpieza</td>\n",
       "      <td>2033</td>\n",
       "    </tr>\n",
       "    <tr>\n",
       "      <th>4</th>\n",
       "      <td>5</td>\n",
       "      <td>Agua Mineral 500ml</td>\n",
       "      <td>Alimentos</td>\n",
       "      <td>4777</td>\n",
       "    </tr>\n",
       "  </tbody>\n",
       "</table>\n",
       "</div>"
      ],
      "text/plain": [
       "   id_producto     nombre_producto  categoria  precio_unitario\n",
       "0            1      Coca Cola 1.5L  Alimentos             2347\n",
       "1            2          Pepsi 1.5L   Limpieza             4973\n",
       "2            3         Sprite 1.5L  Alimentos             4964\n",
       "3            4  Fanta Naranja 1.5L   Limpieza             2033\n",
       "4            5  Agua Mineral 500ml  Alimentos             4777"
      ]
     },
     "execution_count": 4,
     "metadata": {},
     "output_type": "execute_result"
    }
   ],
   "source": [
    "# Lee el cat?logo de productos desde la carpeta db usando rutas relativas\n",
    "path_dataset = Path('db') / 'productos.xlsx'\n",
    "df_productos_c = pd.read_excel(path_dataset)\n",
    "\n",
    "# Inspecciona los primeros registros para validar estructura y campos\n",
    "df_productos_c.head()\n"
   ]
  },
  {
   "cell_type": "markdown",
   "id": "093c5b2f",
   "metadata": {},
   "source": [
    "## 🔍 Inspección Inicial del Dataset\n",
    "\n",
    "En esta etapa se realiza una **inspección exploratoria básica** del DataFrame `df_productos_c` recién cargado, con el objetivo de verificar que los datos se hayan importado correctamente y posean la estructura esperada.\n",
    "\n",
    "Para ello, se utilizan las funciones:"
   ]
  },
  {
   "cell_type": "code",
   "execution_count": 5,
   "id": "14441265",
   "metadata": {},
   "outputs": [
    {
     "data": {
      "text/html": [
       "<div>\n",
       "<style scoped>\n",
       "    .dataframe tbody tr th:only-of-type {\n",
       "        vertical-align: middle;\n",
       "    }\n",
       "\n",
       "    .dataframe tbody tr th {\n",
       "        vertical-align: top;\n",
       "    }\n",
       "\n",
       "    .dataframe thead th {\n",
       "        text-align: right;\n",
       "    }\n",
       "</style>\n",
       "<table border=\"1\" class=\"dataframe\">\n",
       "  <thead>\n",
       "    <tr style=\"text-align: right;\">\n",
       "      <th></th>\n",
       "      <th>id_producto</th>\n",
       "      <th>nombre_producto</th>\n",
       "      <th>categoria</th>\n",
       "      <th>precio_unitario</th>\n",
       "    </tr>\n",
       "  </thead>\n",
       "  <tbody>\n",
       "    <tr>\n",
       "      <th>0</th>\n",
       "      <td>1</td>\n",
       "      <td>Coca Cola 1.5L</td>\n",
       "      <td>Alimentos</td>\n",
       "      <td>2347</td>\n",
       "    </tr>\n",
       "    <tr>\n",
       "      <th>1</th>\n",
       "      <td>2</td>\n",
       "      <td>Pepsi 1.5L</td>\n",
       "      <td>Limpieza</td>\n",
       "      <td>4973</td>\n",
       "    </tr>\n",
       "    <tr>\n",
       "      <th>2</th>\n",
       "      <td>3</td>\n",
       "      <td>Sprite 1.5L</td>\n",
       "      <td>Alimentos</td>\n",
       "      <td>4964</td>\n",
       "    </tr>\n",
       "    <tr>\n",
       "      <th>3</th>\n",
       "      <td>4</td>\n",
       "      <td>Fanta Naranja 1.5L</td>\n",
       "      <td>Limpieza</td>\n",
       "      <td>2033</td>\n",
       "    </tr>\n",
       "    <tr>\n",
       "      <th>4</th>\n",
       "      <td>5</td>\n",
       "      <td>Agua Mineral 500ml</td>\n",
       "      <td>Alimentos</td>\n",
       "      <td>4777</td>\n",
       "    </tr>\n",
       "    <tr>\n",
       "      <th>5</th>\n",
       "      <td>6</td>\n",
       "      <td>Jugo de Naranja 1L</td>\n",
       "      <td>Limpieza</td>\n",
       "      <td>4170</td>\n",
       "    </tr>\n",
       "    <tr>\n",
       "      <th>6</th>\n",
       "      <td>7</td>\n",
       "      <td>Jugo de Manzana 1L</td>\n",
       "      <td>Alimentos</td>\n",
       "      <td>3269</td>\n",
       "    </tr>\n",
       "    <tr>\n",
       "      <th>7</th>\n",
       "      <td>8</td>\n",
       "      <td>Energética Nitro 500ml</td>\n",
       "      <td>Limpieza</td>\n",
       "      <td>4218</td>\n",
       "    </tr>\n",
       "  </tbody>\n",
       "</table>\n",
       "</div>"
      ],
      "text/plain": [
       "   id_producto         nombre_producto  categoria  precio_unitario\n",
       "0            1          Coca Cola 1.5L  Alimentos             2347\n",
       "1            2              Pepsi 1.5L   Limpieza             4973\n",
       "2            3             Sprite 1.5L  Alimentos             4964\n",
       "3            4      Fanta Naranja 1.5L   Limpieza             2033\n",
       "4            5      Agua Mineral 500ml  Alimentos             4777\n",
       "5            6      Jugo de Naranja 1L   Limpieza             4170\n",
       "6            7      Jugo de Manzana 1L  Alimentos             3269\n",
       "7            8  Energética Nitro 500ml   Limpieza             4218"
      ]
     },
     "execution_count": 5,
     "metadata": {},
     "output_type": "execute_result"
    }
   ],
   "source": [
    "# Ampl?a la vista inicial a 8 filas para detectar anomal?as tempranas\n",
    "df_productos_c.head(8)\n"
   ]
  },
  {
   "cell_type": "code",
   "execution_count": 7,
   "id": "d10c00dd",
   "metadata": {},
   "outputs": [
    {
     "data": {
      "text/html": [
       "<div>\n",
       "<style scoped>\n",
       "    .dataframe tbody tr th:only-of-type {\n",
       "        vertical-align: middle;\n",
       "    }\n",
       "\n",
       "    .dataframe tbody tr th {\n",
       "        vertical-align: top;\n",
       "    }\n",
       "\n",
       "    .dataframe thead th {\n",
       "        text-align: right;\n",
       "    }\n",
       "</style>\n",
       "<table border=\"1\" class=\"dataframe\">\n",
       "  <thead>\n",
       "    <tr style=\"text-align: right;\">\n",
       "      <th></th>\n",
       "      <th>id_producto</th>\n",
       "      <th>nombre_producto</th>\n",
       "      <th>categoria</th>\n",
       "      <th>precio_unitario</th>\n",
       "    </tr>\n",
       "  </thead>\n",
       "  <tbody>\n",
       "    <tr>\n",
       "      <th>96</th>\n",
       "      <td>97</td>\n",
       "      <td>Limpiavidrios 500ml</td>\n",
       "      <td>Alimentos</td>\n",
       "      <td>872</td>\n",
       "    </tr>\n",
       "    <tr>\n",
       "      <th>97</th>\n",
       "      <td>98</td>\n",
       "      <td>Desengrasante 500ml</td>\n",
       "      <td>Limpieza</td>\n",
       "      <td>2843</td>\n",
       "    </tr>\n",
       "    <tr>\n",
       "      <th>98</th>\n",
       "      <td>99</td>\n",
       "      <td>Esponjas x3</td>\n",
       "      <td>Alimentos</td>\n",
       "      <td>2430</td>\n",
       "    </tr>\n",
       "    <tr>\n",
       "      <th>99</th>\n",
       "      <td>100</td>\n",
       "      <td>Trapo de Piso</td>\n",
       "      <td>Limpieza</td>\n",
       "      <td>4854</td>\n",
       "    </tr>\n",
       "  </tbody>\n",
       "</table>\n",
       "</div>"
      ],
      "text/plain": [
       "    id_producto      nombre_producto  categoria  precio_unitario\n",
       "96           97  Limpiavidrios 500ml  Alimentos              872\n",
       "97           98  Desengrasante 500ml   Limpieza             2843\n",
       "98           99          Esponjas x3  Alimentos             2430\n",
       "99          100        Trapo de Piso   Limpieza             4854"
      ]
     },
     "execution_count": 7,
     "metadata": {},
     "output_type": "execute_result"
    }
   ],
   "source": [
    "# Revisa las ?ltimas 4 filas para confirmar consistencia al final del archivo\n",
    "df_productos_c.tail(4)\n"
   ]
  },
  {
   "cell_type": "markdown",
   "id": "6d63a76f",
   "metadata": {},
   "source": [
    "## 🧠 Exploración de Tipos de Datos y Valores Nulos\n",
    "\n",
    "En esta etapa se realiza una **revisión estructural del DataFrame** para confirmar que los tipos de datos asignados a cada variable durante la lectura con `pd.read_excel()` sean correctos y coherentes con la naturaleza de la información (por ejemplo, fechas, números, textos, etc.).\n",
    "\n",
    "Además, se evalúa la **presencia de valores nulos o faltantes**, los cuales podrían requerir tratamiento posterior durante el proceso de limpieza y estandarización.\n",
    "\n",
    "### 🧩 Procedimiento"
   ]
  },
  {
   "cell_type": "code",
   "execution_count": 9,
   "id": "b82dc92d",
   "metadata": {},
   "outputs": [
    {
     "name": "stdout",
     "output_type": "stream",
     "text": [
      "<class 'pandas.core.frame.DataFrame'>\n",
      "RangeIndex: 100 entries, 0 to 99\n",
      "Data columns (total 4 columns):\n",
      " #   Column           Non-Null Count  Dtype \n",
      "---  ------           --------------  ----- \n",
      " 0   id_producto      100 non-null    int64 \n",
      " 1   nombre_producto  100 non-null    object\n",
      " 2   categoria        100 non-null    object\n",
      " 3   precio_unitario  100 non-null    int64 \n",
      "dtypes: int64(2), object(2)\n",
      "memory usage: 3.3+ KB\n"
     ]
    }
   ],
   "source": [
    "# Resume tipos de datos, nulos y memoria del dataframe importado\n",
    "df_productos_c.info()\n"
   ]
  }
 ],
 "metadata": {
  "kernelspec": {
   "display_name": "Python 3",
   "language": "python",
   "name": "python3"
  },
  "language_info": {
   "codemirror_mode": {
    "name": "ipython",
    "version": 3
   },
   "file_extension": ".py",
   "mimetype": "text/x-python",
   "name": "python",
   "nbconvert_exporter": "python",
   "pygments_lexer": "ipython3",
   "version": "3.13.3"
  }
 },
 "nbformat": 4,
 "nbformat_minor": 5
}